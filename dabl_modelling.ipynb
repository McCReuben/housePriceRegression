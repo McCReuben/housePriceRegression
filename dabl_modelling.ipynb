{
 "cells": [
  {
   "cell_type": "code",
   "execution_count": 2,
   "metadata": {},
   "outputs": [],
   "source": [
    "from get_data import get_data\n",
    "train_init, final_test, x_train,x_test,y_train,y_test = get_data()"
   ]
  },
  {
   "cell_type": "code",
   "execution_count": 5,
   "metadata": {},
   "outputs": [
    {
     "name": "stdout",
     "output_type": "stream",
     "text": [
      "               continuous  dirty_float  low_card_int  categorical   date  \\\n",
      "MSSubClass          False        False          True        False  False   \n",
      "MSZoning            False        False         False         True  False   \n",
      "LotFrontage          True        False         False        False  False   \n",
      "LotArea              True        False         False        False  False   \n",
      "Alley               False        False         False         True  False   \n",
      "...                   ...          ...           ...          ...    ...   \n",
      "MoSold              False        False          True        False  False   \n",
      "YrSold              False        False         False         True  False   \n",
      "SaleType            False        False         False         True  False   \n",
      "SaleCondition       False        False         False         True  False   \n",
      "SalePrice            True        False         False        False  False   \n",
      "\n",
      "               free_string  useless  \n",
      "MSSubClass           False    False  \n",
      "MSZoning             False    False  \n",
      "LotFrontage          False    False  \n",
      "LotArea              False    False  \n",
      "Alley                False    False  \n",
      "...                    ...      ...  \n",
      "MoSold               False    False  \n",
      "YrSold               False    False  \n",
      "SaleType             False    False  \n",
      "SaleCondition        False    False  \n",
      "SalePrice            False    False  \n",
      "\n",
      "[67 rows x 7 columns]\n"
     ]
    }
   ],
   "source": [
    "import pandas as pd\n",
    "import dabl\n",
    "\n",
    "train_clean = dabl.clean(train_init, verbose=0)\n",
    "types = dabl.detect_types(train_clean)\n"
   ]
  },
  {
   "cell_type": "code",
   "execution_count": null,
   "metadata": {},
   "outputs": [],
   "source": [
    "\n",
    "print(types)\n",
    " "
   ]
  }
 ],
 "metadata": {
  "kernelspec": {
   "display_name": "base",
   "language": "python",
   "name": "python3"
  },
  "language_info": {
   "codemirror_mode": {
    "name": "ipython",
    "version": 3
   },
   "file_extension": ".py",
   "mimetype": "text/x-python",
   "name": "python",
   "nbconvert_exporter": "python",
   "pygments_lexer": "ipython3",
   "version": "3.9.12"
  },
  "orig_nbformat": 4,
  "vscode": {
   "interpreter": {
    "hash": "e246d2215c418239c9316a1ebf2d8abb44dc50b2e5b0e29defd87143398aa387"
   }
  }
 },
 "nbformat": 4,
 "nbformat_minor": 2
}
