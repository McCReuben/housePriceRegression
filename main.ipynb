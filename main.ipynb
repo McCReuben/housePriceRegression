{
 "cells": [
  {
   "cell_type": "code",
   "execution_count": 20,
   "metadata": {},
   "outputs": [],
   "source": [
    "import pandas as pd\n",
    "import numpy as np\n",
    "from sklearn.model_selection import train_test_split\n",
    "from sklearn.preprocessing import LabelEncoder\n",
    "from sklearn.preprocessing import OneHotEncoder\n"
   ]
  },
  {
   "cell_type": "code",
   "execution_count": 56,
   "metadata": {},
   "outputs": [],
   "source": [
    "final_test = pd.read_csv('data/test.csv')\n",
    "train_init = pd.read_csv('data/train.csv')\n",
    "train_init = train_init.drop(columns=[\"Id\"])\n",
    "# train_init.columns\n",
    "# train_init.head()"
   ]
  },
  {
   "cell_type": "code",
   "execution_count": 57,
   "metadata": {},
   "outputs": [],
   "source": [
    "\n",
    "labels = train_init[\"SalePrice\"]\n",
    "features = train_init.drop(columns=[\"SalePrice\"])\n",
    "\n",
    "# Set up training and testing data\n",
    "x_train,x_test,y_train,y_test=train_test_split(features, labels, test_size=0.2, random_state=7)"
   ]
  },
  {
   "cell_type": "code",
   "execution_count": 53,
   "metadata": {},
   "outputs": [
    {
     "data": {
      "text/plain": [
       "array([2008, 2007, 2006, 2009, 2010], dtype=int64)"
      ]
     },
     "execution_count": 53,
     "metadata": {},
     "output_type": "execute_result"
    }
   ],
   "source": [
    "features['YrSold'].unique()"
   ]
  },
  {
   "cell_type": "code",
   "execution_count": 60,
   "metadata": {},
   "outputs": [
    {
     "name": "stdout",
     "output_type": "stream",
     "text": [
      "Series([], dtype: float64)\n"
     ]
    }
   ],
   "source": [
    "df = features\n",
    "# Create a boolean mask indicating the presence of missing values in each column\n",
    "mask = df.isna()\n",
    "# Use the sum method to count the number of missing values in each column\n",
    "na_percent = mask.mean()\n",
    "sorted_na_percent = na_percent.sort_values(ascending=False)\n",
    "\n",
    "# Print the column names and percentage of missing values for columns with missing values\n",
    "print(sorted_na_percent[sorted_na_percent > 0])"
   ]
  },
  {
   "cell_type": "code",
   "execution_count": 64,
   "metadata": {},
   "outputs": [
    {
     "data": {
      "text/plain": [
       "<bound method DataFrame.info of       MSSubClass MSZoning LotFrontage  LotArea Street Alley LotShape  \\\n",
       "0             60       RL        65.0     8450   Pave    No      Reg   \n",
       "1             20       RL        80.0     9600   Pave    No      Reg   \n",
       "2             60       RL        68.0    11250   Pave    No      IR1   \n",
       "3             70       RL        60.0     9550   Pave    No      IR1   \n",
       "4             60       RL        84.0    14260   Pave    No      IR1   \n",
       "...          ...      ...         ...      ...    ...   ...      ...   \n",
       "1455          60       RL        62.0     7917   Pave    No      Reg   \n",
       "1456          20       RL        85.0    13175   Pave    No      Reg   \n",
       "1457          70       RL        66.0     9042   Pave    No      Reg   \n",
       "1458          20       RL        68.0     9717   Pave    No      Reg   \n",
       "1459          20       RL        75.0     9937   Pave    No      Reg   \n",
       "\n",
       "     LandContour Utilities LotConfig  ... ScreenPorch PoolArea PoolQC  Fence  \\\n",
       "0            Lvl    AllPub    Inside  ...           0        0     No     No   \n",
       "1            Lvl    AllPub       FR2  ...           0        0     No     No   \n",
       "2            Lvl    AllPub    Inside  ...           0        0     No     No   \n",
       "3            Lvl    AllPub    Corner  ...           0        0     No     No   \n",
       "4            Lvl    AllPub       FR2  ...           0        0     No     No   \n",
       "...          ...       ...       ...  ...         ...      ...    ...    ...   \n",
       "1455         Lvl    AllPub    Inside  ...           0        0     No     No   \n",
       "1456         Lvl    AllPub    Inside  ...           0        0     No  MnPrv   \n",
       "1457         Lvl    AllPub    Inside  ...           0        0     No  GdPrv   \n",
       "1458         Lvl    AllPub    Inside  ...           0        0     No     No   \n",
       "1459         Lvl    AllPub    Inside  ...           0        0     No     No   \n",
       "\n",
       "     MiscFeature MiscVal  MoSold  YrSold  SaleType  SaleCondition  \n",
       "0             No       0       2    2008        WD         Normal  \n",
       "1             No       0       5    2007        WD         Normal  \n",
       "2             No       0       9    2008        WD         Normal  \n",
       "3             No       0       2    2006        WD        Abnorml  \n",
       "4             No       0      12    2008        WD         Normal  \n",
       "...          ...     ...     ...     ...       ...            ...  \n",
       "1455          No       0       8    2007        WD         Normal  \n",
       "1456          No       0       2    2010        WD         Normal  \n",
       "1457        Shed    2500       5    2010        WD         Normal  \n",
       "1458          No       0       4    2010        WD         Normal  \n",
       "1459          No       0       6    2008        WD         Normal  \n",
       "\n",
       "[1460 rows x 79 columns]>"
      ]
     },
     "execution_count": 64,
     "metadata": {},
     "output_type": "execute_result"
    }
   ],
   "source": [
    "df.fillna('No', inplace=True)\n",
    "df.head(10).style.background_gradient(cmap = \"viridis\")\n",
    "df.describe().transpose().style.background_gradient(cmap = \"magma\")\n",
    "df.info"
   ]
  },
  {
   "cell_type": "code",
   "execution_count": 69,
   "metadata": {},
   "outputs": [
    {
     "name": "stderr",
     "output_type": "stream",
     "text": [
      "Summarize dataset: 100%|██████████| 713/713 [01:32<00:00,  7.73it/s, Completed]                           \n",
      "Generate report structure: 100%|██████████| 1/1 [00:16<00:00, 16.51s/it]\n",
      "Render HTML: 100%|██████████| 1/1 [00:16<00:00, 16.27s/it]\n",
      "Export report to file: 100%|██████████| 1/1 [00:00<00:00,  5.18it/s]\n"
     ]
    }
   ],
   "source": [
    "import pandas_profiling\n",
    "import streamlit as st\n",
    "\n",
    "from streamlit_pandas_profiling import st_profile_report\n",
    "\n",
    "pr = df.profile_report()\n",
    "st_profile_report(pr)\n",
    "pr.to_file('streamlit_out.html')\n"
   ]
  }
 ],
 "metadata": {
  "kernelspec": {
   "display_name": "base",
   "language": "python",
   "name": "python3"
  },
  "language_info": {
   "codemirror_mode": {
    "name": "ipython",
    "version": 3
   },
   "file_extension": ".py",
   "mimetype": "text/x-python",
   "name": "python",
   "nbconvert_exporter": "python",
   "pygments_lexer": "ipython3",
   "version": "3.9.12 (main, Apr  4 2022, 05:22:27) [MSC v.1916 64 bit (AMD64)]"
  },
  "orig_nbformat": 4,
  "vscode": {
   "interpreter": {
    "hash": "e246d2215c418239c9316a1ebf2d8abb44dc50b2e5b0e29defd87143398aa387"
   }
  }
 },
 "nbformat": 4,
 "nbformat_minor": 2
}
